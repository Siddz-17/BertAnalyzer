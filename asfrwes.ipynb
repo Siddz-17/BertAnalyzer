{
 "cells": [
  {
   "cell_type": "code",
   "execution_count": 1,
   "metadata": {},
   "outputs": [
    {
     "name": "stdout",
     "output_type": "stream",
     "text": [
      "Loaded dataset with 419197 samples.\n",
      "Processed dataset with 19850 samples.\n"
     ]
    },
    {
     "name": "stderr",
     "output_type": "stream",
     "text": [
      "Some weights of BertForSequenceClassification were not initialized from the model checkpoint at bert-base-uncased and are newly initialized: ['classifier.bias', 'classifier.weight']\n",
      "You should probably TRAIN this model on a down-stream task to be able to use it for predictions and inference.\n",
      "c:\\Users\\Siddh\\AppData\\Local\\Programs\\Python\\Python310\\lib\\site-packages\\transformers\\optimization.py:591: FutureWarning: This implementation of AdamW is deprecated and will be removed in a future version. Use the PyTorch implementation torch.optim.AdamW instead, or set `no_deprecation_warning=True` to disable this warning\n",
      "  warnings.warn(\n",
      "C:\\Users\\Siddh\\AppData\\Local\\Temp\\ipykernel_7184\\2222973912.py:31: FutureWarning: `torch.cuda.amp.GradScaler(args...)` is deprecated. Please use `torch.amp.GradScaler('cuda', args...)` instead.\n",
      "  self.scaler = GradScaler()\n"
     ]
    },
    {
     "name": "stdout",
     "output_type": "stream",
     "text": [
      "Using device: cuda\n",
      "Training epoch 1...\n"
     ]
    },
    {
     "name": "stderr",
     "output_type": "stream",
     "text": [
      "Epoch 1/3:   0%|          | 0/1489 [00:00<?, ?it/s]C:\\Users\\Siddh\\AppData\\Local\\Temp\\ipykernel_7184\\2222973912.py:59: FutureWarning: `torch.cuda.amp.autocast(args...)` is deprecated. Please use `torch.amp.autocast('cuda', args...)` instead.\n",
      "  with autocast():\n",
      "Epoch 1/3: 100%|██████████| 1489/1489 [05:08<00:00,  4.83it/s]\n"
     ]
    },
    {
     "name": "stdout",
     "output_type": "stream",
     "text": [
      "Epoch 1, Average Loss: 0.3724\n",
      "Validation Loss: 0.2970\n",
      "Training epoch 2...\n"
     ]
    },
    {
     "name": "stderr",
     "output_type": "stream",
     "text": [
      "Epoch 2/3: 100%|██████████| 1489/1489 [05:14<00:00,  4.73it/s]\n"
     ]
    },
    {
     "name": "stdout",
     "output_type": "stream",
     "text": [
      "Epoch 2, Average Loss: 0.2124\n",
      "Validation Loss: 0.3054\n",
      "Training epoch 3...\n"
     ]
    },
    {
     "name": "stderr",
     "output_type": "stream",
     "text": [
      "Epoch 3/3: 100%|██████████| 1489/1489 [05:10<00:00,  4.80it/s]\n"
     ]
    },
    {
     "name": "stdout",
     "output_type": "stream",
     "text": [
      "Epoch 3, Average Loss: 0.0851\n",
      "Validation Loss: 0.4217\n",
      "Early stopping triggered.\n",
      "Test Accuracy: 86.75%\n"
     ]
    }
   ],
   "source": [
    "import os\n",
    "import torch\n",
    "from torch.utils.data import Dataset, DataLoader\n",
    "from transformers import BertTokenizer, BertForSequenceClassification, AdamW, get_scheduler\n",
    "from sklearn.model_selection import train_test_split\n",
    "import pandas as pd\n",
    "from tqdm import tqdm\n",
    "from torch.cuda.amp import GradScaler, autocast\n",
    "\n",
    "class TextDataset(Dataset):\n",
    "    def __init__(self, texts, labels, max_length=200):\n",
    "        self.tokenizer = BertTokenizer.from_pretrained('bert-base-uncased')\n",
    "        self.encodings = self.tokenizer(texts.tolist(), truncation=True, \n",
    "                                        padding='max_length', max_length=max_length)\n",
    "        self.labels = labels.tolist()\n",
    "\n",
    "    def __getitem__(self, idx):\n",
    "        item = {key: torch.tensor(val[idx]) for key, val in self.encodings.items()}\n",
    "        item['labels'] = torch.tensor(int(self.labels[idx]))\n",
    "        return item\n",
    "\n",
    "    def __len__(self):\n",
    "        return len(self.labels)\n",
    "\n",
    "class BertTrainer:\n",
    "    def __init__(self, num_labels=2, learning_rate=5e-5):\n",
    "        self.device = torch.device(\"cuda\" if torch.cuda.is_available() else \"cpu\")\n",
    "        self.model = BertForSequenceClassification.from_pretrained(\n",
    "            'bert-base-uncased', num_labels=num_labels).to(self.device)\n",
    "        self.optimizer = AdamW(self.model.parameters(), lr=learning_rate, weight_decay=0.01)\n",
    "        self.scaler = GradScaler()\n",
    "\n",
    "        # Print device info for debugging\n",
    "        print(f\"Using device: {self.device}\")\n",
    "\n",
    "    def train(self, train_loader, val_loader, num_epochs=3, save_path='best_model'):\n",
    "        num_training_steps = num_epochs * len(train_loader)\n",
    "        lr_scheduler = get_scheduler(\n",
    "            \"linear\",\n",
    "            optimizer=self.optimizer,\n",
    "            num_warmup_steps=0,\n",
    "            num_training_steps=num_training_steps\n",
    "        )\n",
    "\n",
    "        best_val_loss = float('inf')\n",
    "        patience_counter = 0\n",
    "        patience_limit = 2\n",
    "\n",
    "        for epoch in range(num_epochs):\n",
    "            print(f\"Training epoch {epoch + 1}...\")\n",
    "            self.model.train()\n",
    "            total_loss = 0\n",
    "            progress_bar = tqdm(train_loader, desc=f\"Epoch {epoch + 1}/{num_epochs}\")\n",
    "\n",
    "            for batch in progress_bar:\n",
    "                batch = {k: v.to(self.device) for k, v in batch.items()}\n",
    "                self.optimizer.zero_grad()\n",
    "\n",
    "                with autocast():\n",
    "                    outputs = self.model(**batch)\n",
    "                    loss = outputs.loss\n",
    "\n",
    "                self.scaler.scale(loss).backward()\n",
    "                self.scaler.step(self.optimizer)\n",
    "                self.scaler.update()\n",
    "                lr_scheduler.step()\n",
    "\n",
    "                total_loss += loss.item()\n",
    "                torch.cuda.empty_cache()\n",
    "\n",
    "            avg_loss = total_loss / len(train_loader)\n",
    "            print(f\"Epoch {epoch + 1}, Average Loss: {avg_loss:.4f}\")\n",
    "\n",
    "            val_loss = self.evaluate(val_loader)\n",
    "            print(f\"Validation Loss: {val_loss:.4f}\")\n",
    "\n",
    "            if val_loss < best_val_loss:\n",
    "                best_val_loss = val_loss\n",
    "                patience_counter = 0\n",
    "                self.model.save_pretrained(save_path)\n",
    "            else:\n",
    "                patience_counter += 1\n",
    "                if patience_counter >= patience_limit:\n",
    "                    print(\"Early stopping triggered.\")\n",
    "                    break\n",
    "\n",
    "    def evaluate(self, loader):\n",
    "        self.model.eval()\n",
    "        total_loss = 0\n",
    "\n",
    "        with torch.no_grad():\n",
    "            for batch in loader:\n",
    "                batch = {k: v.to(self.device) for k, v in batch.items()}\n",
    "                outputs = self.model(**batch)\n",
    "                total_loss += outputs.loss.item()\n",
    "\n",
    "        return total_loss / len(loader)\n",
    "\n",
    "    def test(self, test_loader):\n",
    "        self.model.eval()\n",
    "        correct = 0\n",
    "        total = 0\n",
    "\n",
    "        with torch.no_grad():\n",
    "            for batch in test_loader:\n",
    "                batch = {k: v.to(self.device) for k, v in batch.items()}\n",
    "                outputs = self.model(**batch)\n",
    "                predictions = torch.argmax(outputs.logits, dim=-1)\n",
    "                correct += (predictions == batch['labels']).sum().item()\n",
    "                total += len(batch['labels'])\n",
    "\n",
    "        accuracy = (correct / total) * 100\n",
    "        return accuracy\n",
    "\n",
    "def load_data(file_path, batch_size=16, limit_samples=10000):\n",
    "    df = pd.read_csv(file_path)\n",
    "    print(f\"Loaded dataset with {len(df)} samples.\")\n",
    "    \n",
    "    # Limit to 10,000 samples\n",
    "    if len(df) > limit_samples:\n",
    "        df = df.sample(n=limit_samples, random_state=42)\n",
    "\n",
    "    category = {}\n",
    "    for i in range(len(df)):\n",
    "        paraphrases = df.iloc[i][\"paraphrases\"][1:-1].split(', ')\n",
    "        for paraphrase in paraphrases[:1]:\n",
    "            category[paraphrase[1:-1]] = 'chatgpt'\n",
    "        category[df.iloc[i]['text']] = \"human\"\n",
    "\n",
    "    data = pd.DataFrame(category.items(), columns=[\"text\", \"category\"]).sample(frac=1)\n",
    "    print(f\"Processed dataset with {len(data)} samples.\")\n",
    "\n",
    "    label_mapping = {'human': 0, 'chatgpt': 1}\n",
    "    data['category'] = data['category'].map(label_mapping)\n",
    "\n",
    "    X_train_val, X_test, y_train_val, y_test = train_test_split(data['text'], data['category'], test_size=0.2)\n",
    "    X_train, X_val, y_train, y_val = train_test_split(X_train_val, y_train_val, test_size=0.25)\n",
    "\n",
    "    train_dataset = TextDataset(X_train, y_train)\n",
    "    val_dataset = TextDataset(X_val, y_val)\n",
    "    test_dataset = TextDataset(X_test, y_test)\n",
    "\n",
    "    # Reduce batch size if GPU memory is low\n",
    "    train_loader = DataLoader(train_dataset, batch_size=8, shuffle=True, \n",
    "                              num_workers=0, pin_memory=True)\n",
    "    val_loader = DataLoader(val_dataset, batch_size=8, \n",
    "                            num_workers=0, pin_memory=True)\n",
    "    test_loader = DataLoader(test_dataset, batch_size=8, \n",
    "                             num_workers=0, pin_memory=True)\n",
    "\n",
    "    return train_loader, val_loader, test_loader\n",
    "\n",
    "def main():\n",
    "    file_path = 'Z:/bert/chatgpt_paraphrases.csv'\n",
    "    model_save_path = \"Z:/bert/modeltensorss\"\n",
    "    train_loader, val_loader, test_loader = load_data(file_path)\n",
    "\n",
    "    trainer = BertTrainer()\n",
    "    trainer.train(train_loader, val_loader, save_path=model_save_path)\n",
    "    accuracy = trainer.test(test_loader)\n",
    "    print(f\"Test Accuracy: {accuracy:.2f}%\")\n",
    "\n",
    "if __name__ == \"__main__\":\n",
    "    main()\n"
   ]
  },
  {
   "cell_type": "code",
   "execution_count": null,
   "metadata": {},
   "outputs": [],
   "source": []
  }
 ],
 "metadata": {
  "kernelspec": {
   "display_name": "Python 3",
   "language": "python",
   "name": "python3"
  },
  "language_info": {
   "codemirror_mode": {
    "name": "ipython",
    "version": 3
   },
   "file_extension": ".py",
   "mimetype": "text/x-python",
   "name": "python",
   "nbconvert_exporter": "python",
   "pygments_lexer": "ipython3",
   "version": "3.10.11"
  }
 },
 "nbformat": 4,
 "nbformat_minor": 2
}
